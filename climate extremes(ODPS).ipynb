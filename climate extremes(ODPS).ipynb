{
 "cells": [
  {
   "cell_type": "markdown",
   "metadata": {},
   "source": [
    "# climate extremes explorer (ODPS)"
   ]
  },
  {
   "cell_type": "markdown",
   "metadata": {},
   "source": [
    "## 1 Login ODPS"
   ]
  },
  {
   "cell_type": "code",
   "execution_count": 1,
   "metadata": {},
   "outputs": [
    {
     "name": "stdout",
     "output_type": "stream",
     "text": [
      "time:  2023-07-31 07:41:04\n"
     ]
    }
   ],
   "source": [
    "from sql2odps import *\n",
    "from odps import ODPS\n",
    "\n",
    "# 1. create a odps instance,init_ODPS() return a odps instance\n",
    "project= ''\n",
    "ak=''\n",
    "sk=''\n",
    "endpoint=''\n",
    "o = ODPS(ak,sk,project,endpoint=endpoint)\n",
    "now_time = time.time()\n",
    "print('time: ', time.strftime(\"%Y-%m-%d %H:%M:%S\", time.localtime(now_time)))"
   ]
  },
  {
   "cell_type": "markdown",
   "metadata": {},
   "source": [
    "### 1.1 get a glimpse of all the tables in the project"
   ]
  },
  {
   "cell_type": "code",
   "execution_count": 2,
   "metadata": {},
   "outputs": [
    {
     "name": "stdout",
     "output_type": "stream",
     "text": [
      "start time:  2023-07-30 19:25:31\n",
      "cesm\n",
      "cesm_2006_2015\n",
      "cesm_ass1\n",
      "cesm_ass1_0726\n",
      "cesm_ass1_0727\n",
      "cesm_ass1_0728\n",
      "cesm_ass1_0730\n",
      "cesm_ass1_100year_0730\n",
      "cesm_ass1_50year_0728\n",
      "cesm_ass1_50year_0728_1\n",
      "cesm_ass1_50year_0729\n",
      "cesm_ass2_0726\n",
      "cesm_city\n",
      "cesm_future\n",
      "cesm_output\n",
      "cesm_output1\n",
      "cesm_output_2016\n",
      "cesm_prect\n",
      "cesm_trefhtmx\n",
      "hongwei_testsql\n",
      "mean_of_cesm_city\n",
      "mean_of_cesm_output\n",
      "mean_of_cesm_output1\n",
      "odps_test\n",
      "output_test\n",
      "output_test_test\n",
      "temp_table\n",
      "testsql\n",
      "testsql2\n",
      "tmp_pyodps_5904a6d3_f8df_43ee_8b0d_d5870133d52b\n",
      "tmp_pyodps_781df8c3_806e_4e1d_ba1d_8b2027851700\n",
      "tmp_pyodps_f228b79d_5a6d_4144_b2d3_caa1e8259093\n",
      "trefhtmx_2006_2015\n"
     ]
    }
   ],
   "source": [
    "show_all_tables(o)"
   ]
  },
  {
   "cell_type": "markdown",
   "metadata": {},
   "source": [
    "### 1.2 show the schema of a table"
   ]
  },
  {
   "cell_type": "code",
   "execution_count": 3,
   "metadata": {},
   "outputs": [
    {
     "name": "stdout",
     "output_type": "stream",
     "text": [
      "start time:  2023-07-29 21:47:57\n",
      "--------------------------------------------------\n",
      "odps.Table\n",
      "  name: cesm0511.`cesm`\n",
      "  schema:\n",
      "    member_id           : bigint            \n",
      "    time                : timestamp         \n",
      "    lat                 : double            \n",
      "    lon                 : double            \n",
      "    trefmxav_u          : double            \n",
      "    flns                : double            \n",
      "    fsns                : double            \n",
      "    precsc              : double            \n",
      "    precsl              : double            \n",
      "    prect               : double            \n",
      "    qbot                : double            \n",
      "    trefht              : double            \n",
      "    ubot                : double            \n",
      "    vbot                : double            \n",
      "\n",
      "size: 2565541639325\n",
      "--------------------------------------------------\n"
     ]
    }
   ],
   "source": [
    "# 2. get table info,get_table_info() show the schema of the table_name ,return a table object\n",
    "# for table in o.list_tables():\n",
    "#     print(table.name)\n",
    "t = show_get_table_info(o, table_name='cesm')"
   ]
  },
  {
   "cell_type": "markdown",
   "metadata": {},
   "source": [
    "###  1.3 show the instances info"
   ]
  },
  {
   "cell_type": "code",
   "execution_count": 3,
   "metadata": {},
   "outputs": [
    {
     "name": "stdout",
     "output_type": "stream",
     "text": [
      "20230730032439836gyx1f354    Status.RUNNING\n",
      "20230730032439969garix654    Status.RUNNING\n",
      "20230730032440152gbrix654    Status.RUNNING\n",
      "20230730032440229g0y1f354    Status.RUNNING\n",
      "20230730032440376g1y1f354    Status.RUNNING\n",
      "20230730032440452g2y1f354    Status.RUNNING\n",
      "20230730032440629gdrix654    Status.RUNNING\n",
      "2023073003244068gzx1f354    Status.RUNNING\n",
      "--------------------------------------------------\n",
      "time:  2023-07-30 19:25:41\n",
      "\n",
      "--------------------------------------------------\n",
      "time:  2023-07-30 19:25:41\n",
      "total instance num:  27593\n",
      "terminate instance num:  27585\n",
      "running instance num:  8\n"
     ]
    }
   ],
   "source": [
    "# 3. show the instance statues,prints the number of instances in each status\n",
    "\n",
    "show_instance_statues(o,need_stop=True)\n",
    "#show_instance_statues(o)"
   ]
  },
  {
   "cell_type": "markdown",
   "metadata": {},
   "source": [
    "### show instance process"
   ]
  },
  {
   "cell_type": "code",
   "execution_count": null,
   "metadata": {},
   "outputs": [],
   "source": [
    "plot_instance_dur(o,show_number = 30,all_num= 400 ,show_type = 'minute',label_interval= 1,condition=[(2023,7,26,12,20,0,0)],show_id=True)"
   ]
  },
  {
   "cell_type": "code",
   "execution_count": null,
   "metadata": {},
   "outputs": [],
   "source": [
    "get_instance_dur(o,'20230726042836261g875f354')\n"
   ]
  },
  {
   "cell_type": "markdown",
   "metadata": {},
   "source": [
    "## 2.create your new table and insert data"
   ]
  },
  {
   "cell_type": "code",
   "execution_count": 4,
   "metadata": {},
   "outputs": [
    {
     "data": {
      "text/plain": [
       "([<column lat, type double>,\n",
       "  <column lon, type double>,\n",
       "  <column time_list, type timestamp>,\n",
       "  <column climate_index, type double>,\n",
       "  <column quant, type double>,\n",
       "  <column frequence, type int>,\n",
       "  <column mean_climate_index, type double>,\n",
       "  <column group_id, type double>,\n",
       "  <column single_event_dur, type int>,\n",
       "  <column total_duration, type int>],\n",
       " [<partition percentile_period, type string>,\n",
       "  <partition percentile, type int>,\n",
       "  <partition event_kind, type string>,\n",
       "  <partition member_id, type int>])"
      ]
     },
     "execution_count": 4,
     "metadata": {},
     "output_type": "execute_result"
    }
   ],
   "source": [
    "# get the default column names and partitions of the table,in case you want to change the column names or type\n",
    "# columns,partitions = init_table_info()\n",
    "# columns.del('time')\n",
    "columns = [\n",
    "        \n",
    "        Column(name='lat', type='double', comment='latitude, unit: degree'),\n",
    "        Column(name='lon', type='double', comment='longitudue,unit: degree'),\n",
    "        Column(name='time_list', type='TIMESTAMP', comment='date'),\n",
    "        Column(name='climate_index', type='double', comment='index of cliamte (e.g., temperature, precipitation), unit: (e.g.,C, M/S)'),\n",
    "        Column(name='quant', type='double', comment='quantile value of climate index at a specific percentile, unit: (e.g.,C, M/S)'),\n",
    "        Column(name='frequence', type='int', comment='counts of the number cliamte extreme events in the seleacted peroid, unit: counts'),\n",
    "        Column(name='mean_climate_index', type='double', comment='mean of the cliamte events in the seleacted peroid, unit: (e.g.,C, M/S)'),\n",
    "        Column(name='group_id', type='double', comment=''),\n",
    "        Column(name='single_event_dur', type='int', comment='single event duration, unit: days'),\n",
    "        Column(name='total_duration', type='int', comment='total duration of climate extreme events in the seleacted peroid, unit: days'),\n",
    "        #Column(name='percentile', type='int', comment='the percentile for calculating the quantile'),\n",
    "        #Column(name='event_kind', type='string', comment='kind of climate extreme events'),\n",
    "        ]\n",
    "partitions = [\n",
    "            #Partition(name='percentile_period', type='string', comment='the period of the quantile'), \n",
    "            Partition(name='percentile', type='int', comment='the percentile for calculating the quantile'),\n",
    "            Partition(name='event_kind', type='string', comment='the partition'),\n",
    "            Partition(name='member_id', type='int', comment='member id of cesm-lens1')]\n",
    "columns,partitions "
   ]
  },
  {
   "cell_type": "code",
   "execution_count": 30,
   "metadata": {},
   "outputs": [
    {
     "name": "stdout",
     "output_type": "stream",
     "text": [
      "start time:  2023-07-30 07:29:22\n",
      "table cesm_ass1_100year_0730 is created successfully!\n"
     ]
    }
   ],
   "source": [
    "comment = 'This table stored the extremes of heatwaves and prep of cesm-lens1 06-100, try_2023_07_30,first is prect, second is trefhtmx'\n",
    "create_table(o,table_name='cesm_ass1_50year_0730',columns=columns,partitions=partitions,\n",
    "             comment=comment)"
   ]
  },
  {
   "cell_type": "code",
   "execution_count": 31,
   "metadata": {},
   "outputs": [
    {
     "name": "stdout",
     "output_type": "stream",
     "text": [
      "start time:  2023-07-30 07:29:24\n",
      "--------------------------------------------------\n",
      "odps.Table\n",
      "  name: cesm0511.`cesm_ass1_100year_0730`\n",
      "  schema:\n",
      "    lat                                 : double            # latitude, unit: degree\n",
      "    lon                                 : double            # longitudue,unit: degree\n",
      "    time_list                           : timestamp         # date\n",
      "    climate_index                       : double            # index of cliamte (e.g., temperature, precipitation), unit: (e.g.,C, M/S)\n",
      "    quant                               : double            # quantile value of climate index at a specific percentile, unit: (e.g.,C, M/S)\n",
      "    frequence                           : int               # counts of the number cliamte extreme events in the seleacted peroid, unit: counts\n",
      "    mean_climate_index                  : double            # mean of the cliamte events in the seleacted peroid, unit: (e.g.,C, M/S)\n",
      "    group_id                            : double            \n",
      "    single_event_dur                    : int               # single event duration, unit: days\n",
      "    total_duration                      : int               # total duration of climate extreme events in the seleacted peroid, unit: days\n",
      "  partitions:\n",
      "    percentile                          : int               # the percentile for calculating the quantile\n",
      "    event_kind                          : string            # the partition\n",
      "    member_id                           : int               # member id of cesm-lens1\n",
      "size: 0\n",
      "--------------------------------------------------\n"
     ]
    }
   ],
   "source": [
    "# create a table with the table_name,columns and partitions\n",
    "# create_table(o,table_name='cesm_ass1_0727',columns=columns,partitions=partitions)\n",
    "t = show_get_table_info(o, table_name='cesm_ass1_50year_0730')"
   ]
  },
  {
   "cell_type": "markdown",
   "metadata": {},
   "source": [
    "### dorp table"
   ]
  },
  {
   "cell_type": "code",
   "execution_count": 7,
   "metadata": {},
   "outputs": [
    {
     "name": "stdout",
     "output_type": "stream",
     "text": [
      "table info: \n",
      "start time:  2023-07-30 06:31:23\n",
      "--------------------------------------------------\n",
      "odps.Table\n",
      "  name: cesm0511.`cesm_ass1_100year_0730`\n",
      "  schema:\n",
      "    lat                                 : double            # latitude, unit: degree\n",
      "    lon                                 : double            # longitudue,unit: degree\n",
      "    time_list                           : timestamp         # date\n",
      "    climate_index                       : double            # index of cliamte (e.g., temperature, precipitation), unit: (e.g.,C, M/S)\n",
      "    quant                               : double            # quantile value of climate index at a specific percentile, unit: (e.g.,C, M/S)\n",
      "    frequence                           : int               # counts of the number cliamte extreme events in the seleacted peroid, unit: counts\n",
      "    mean_climate_index                  : double            # mean of the cliamte events in the seleacted peroid, unit: (e.g.,C, M/S)\n",
      "    group_id                            : double            \n",
      "    single_event_dur                    : int               # single event duration, unit: days\n",
      "    total_duration                      : int               # total duration of climate extreme events in the seleacted peroid, unit: days\n",
      "  partitions:\n",
      "    percentile                          : int               # the percentile for calculating the quantile\n",
      "    event_kind                          : string            # the partition\n",
      "    member_id                           : int               # member id of cesm-lens1\n",
      "size: 10677039287\n",
      "--------------------------------------------------\n"
     ]
    },
    {
     "name": "stdout",
     "output_type": "stream",
     "text": [
      "\n",
      "table cesm_ass1_100year_0730 is dropped successfully!\n"
     ]
    }
   ],
   "source": [
    "# drop a table with the table_name input \n",
    "drop_table(o, table_name='cesm_ass1_100year_0730')"
   ]
  },
  {
   "cell_type": "markdown",
   "metadata": {},
   "source": [
    "## 3 Select or insert information from table with config.josn"
   ]
  },
  {
   "cell_type": "markdown",
   "metadata": {},
   "source": [
    "### 3.1 read the cofig file"
   ]
  },
  {
   "cell_type": "code",
   "execution_count": 5,
   "metadata": {},
   "outputs": [
    {
     "name": "stdout",
     "output_type": "stream",
     "text": [
      "var_col_name      : ['prect', 'trefhtmx']         drop_nan          : FALSE                         select_positive   : TRUE                          \n",
      "lat_col_name      : lat                           lon_col_name      : lon                           time_col_name     : time                          \n",
      "start_year        : 2006                          end_year          : 2055                          start_month       : 1                             \n",
      "end_month         : 12                            SELECT_ALL_TIME   : FALSE                         set_quantile      : NULL                          \n",
      "quant             : 0.98                          duration_threshold: 3                             member_id         : 1                             \n",
      "SQL_path          : ./sql/ass1_allmember.sql      output_filename   : intermediate_output.txt       tablename         : cesm_trefhtmx                 \n",
      "output_table      : cesm_ass1_0730                "
     ]
    },
    {
     "data": {
      "text/plain": [
       "{'var_col_name': ['prect', 'trefhtmx'],\n",
       " 'drop_nan': 'FALSE',\n",
       " 'select_positive': 'TRUE',\n",
       " 'lat_col_name': 'lat',\n",
       " 'lon_col_name': 'lon',\n",
       " 'time_col_name': 'time',\n",
       " 'start_year': '2006',\n",
       " 'end_year': '2055',\n",
       " 'start_month': '1',\n",
       " 'end_month': '12',\n",
       " 'SELECT_ALL_TIME': 'FALSE',\n",
       " 'set_quantile': 'NULL',\n",
       " 'quant': '0.98',\n",
       " 'duration_threshold': '3',\n",
       " 'member_id': '1',\n",
       " 'SQL_path': './sql/ass1_allmember.sql',\n",
       " 'output_filename': 'intermediate_output.txt',\n",
       " 'tablename': 'cesm_trefhtmx',\n",
       " 'output_table': 'cesm_ass1_0730'}"
      ]
     },
     "execution_count": 5,
     "metadata": {},
     "output_type": "execute_result"
    }
   ],
   "source": [
    "# get the config info from the config.json file\n",
    "get_config('config.json')"
   ]
  },
  {
   "cell_type": "markdown",
   "metadata": {},
   "source": [
    "**it's worth mentioning sth in the config.json file:**\n",
    "\n",
    "quant and member_id are both can be list or just a number, but the format of the list is different.\n",
    "\n",
    "but when they are list, **the elements in the list should be the same type**, and **shouldn't be str**,be int or float/double.\n",
    "\n",
    "here is the example:"
   ]
  },
  {
   "cell_type": "markdown",
   "metadata": {},
   "source": [
    "'quant': [0.8, 0.91, 0.05] or 'quant': 0.8\n",
    "'member_id': [[1, 35, 1], [101, 105, 1]], or 'member_id': [1, 35, 1],or 'member_id': 'NULL'"
   ]
  },
  {
   "cell_type": "markdown",
   "metadata": {},
   "source": [
    "### 3.2 execute SQL script in the ODPS"
   ]
  },
  {
   "cell_type": "markdown",
   "metadata": {},
   "source": [
    "when run the odps_exec function, it will **show the config of \n",
    "what you have set in the config.json file.**\n",
    "\n",
    "1. you need to check if the config is correct.if not ,you can input no and \n",
    "reset the config.\n",
    "\n",
    "2. if the config is correct, you can input yes and run the sql2odps function.\n",
    "\n",
    "3. if you want to quit the function, you can input quit/Q .\n",
    "\n",
    "\n",
    "here's an example:"
   ]
  },
  {
   "cell_type": "code",
   "execution_count": 33,
   "metadata": {},
   "outputs": [
    {
     "name": "stdout",
     "output_type": "stream",
     "text": [
      "\n",
      "--------------------------------------------------\n",
      "var_col_name      : ['prect', 'trefhtmx']         drop_nan          : FALSE                         select_positive   : TRUE                          \n",
      "lat_col_name      : lat                           lon_col_name      : lon                           time_col_name     : time                          \n",
      "start_year        : 2006                          end_year          : 2055                          start_month       : 1                             \n",
      "end_month         : 12                            SELECT_ALL_TIME   : TRUE                          set_quantile      : NULL                          \n",
      "quant             : 0.98                          duration_threshold: 3                             member_id         : [[1, 36, 1], [101, 106, 1]]   \n",
      "SQL_path          : ./sql/ass1.sql                output_filename   : intermediate_output.txt       tablename         : cesm_trefhtmx                 \n",
      "output_table      : cesm_ass1_100year_0730        \n",
      "Is that correct?[Y/N] or [Q] to quit!\n",
      "\n",
      "---------------Start to execute the 1nd sql script!---------------\n",
      "start time:  2023-07-30 07:29:35\n",
      "percentile:(total:1) \n",
      " [0.98]\n",
      "var_list:(total:2) \n",
      " ['prect', 'trefhtmx']\n",
      "drop_nan: \n",
      " 0\n",
      "--------------------------------------------------\n",
      "total task:  80\n",
      "start time:  2023-07-30 07:29:35\n",
      "--------------------------------------------------\n",
      "\n"
     ]
    },
    {
     "name": "stderr",
     "output_type": "stream",
     "text": [
      "Processing member: 1:   2%|▎         | 1/40 [00:00<00:06,  5.90it/s]"
     ]
    },
    {
     "name": "stdout",
     "output_type": "stream",
     "text": [
      "--------------------------------------------------\n",
      "member_id:  1 percentile:  0.98 var:  prect\n",
      "--------------------------------------------------\n",
      "--------------------------------------------------\n",
      "member_id:  1 percentile:  0.98 var:  trefhtmx\n",
      "--------------------------------------------------\n"
     ]
    },
    {
     "name": "stderr",
     "output_type": "stream",
     "text": [
      "Processing member: 2:   2%|▎         | 1/40 [00:00<00:06,  5.90it/s]"
     ]
    },
    {
     "name": "stdout",
     "output_type": "stream",
     "text": [
      "--------------------------------------------------\n",
      "member_id:  2 percentile:  0.98 var:  prect\n",
      "--------------------------------------------------\n"
     ]
    },
    {
     "name": "stderr",
     "output_type": "stream",
     "text": [
      "Processing member: 2:   5%|▌         | 2/40 [00:00<00:06,  5.94it/s]"
     ]
    },
    {
     "name": "stdout",
     "output_type": "stream",
     "text": [
      "--------------------------------------------------\n",
      "member_id:  2 percentile:  0.98 var:  trefhtmx\n",
      "--------------------------------------------------\n"
     ]
    },
    {
     "name": "stderr",
     "output_type": "stream",
     "text": [
      "Processing member: 3:   5%|▌         | 2/40 [00:00<00:06,  5.94it/s]"
     ]
    },
    {
     "name": "stdout",
     "output_type": "stream",
     "text": [
      "--------------------------------------------------\n",
      "member_id:  3 percentile:  0.98 var:  prect\n",
      "--------------------------------------------------\n"
     ]
    },
    {
     "name": "stderr",
     "output_type": "stream",
     "text": [
      "Processing member: 3:   5%|▌         | 2/40 [00:00<00:06,  5.94it/s]"
     ]
    },
    {
     "name": "stdout",
     "output_type": "stream",
     "text": [
      "--------------------------------------------------\n",
      "member_id:  3 percentile:  0.98 var:  trefhtmx\n",
      "--------------------------------------------------\n"
     ]
    },
    {
     "name": "stderr",
     "output_type": "stream",
     "text": [
      "Processing member: 4:   8%|▊         | 3/40 [00:00<00:06,  5.82it/s]"
     ]
    },
    {
     "name": "stdout",
     "output_type": "stream",
     "text": [
      "--------------------------------------------------\n",
      "member_id:  4 percentile:  0.98 var:  prect\n",
      "--------------------------------------------------\n"
     ]
    },
    {
     "name": "stderr",
     "output_type": "stream",
     "text": [
      "Processing member: 4:   8%|▊         | 3/40 [00:00<00:06,  5.82it/s]"
     ]
    },
    {
     "name": "stdout",
     "output_type": "stream",
     "text": [
      "--------------------------------------------------\n",
      "member_id:  4 percentile:  0.98 var:  trefhtmx\n",
      "--------------------------------------------------\n"
     ]
    },
    {
     "name": "stderr",
     "output_type": "stream",
     "text": [
      "Processing member: 5:  10%|█         | 4/40 [00:00<00:05,  6.14it/s]"
     ]
    },
    {
     "name": "stdout",
     "output_type": "stream",
     "text": [
      "--------------------------------------------------\n",
      "member_id:  5 percentile:  0.98 var:  prect\n",
      "--------------------------------------------------\n"
     ]
    },
    {
     "name": "stderr",
     "output_type": "stream",
     "text": [
      "Processing member: 5:  10%|█         | 4/40 [00:00<00:05,  6.14it/s]"
     ]
    },
    {
     "name": "stdout",
     "output_type": "stream",
     "text": [
      "--------------------------------------------------\n",
      "member_id:  5 percentile:  0.98 var:  trefhtmx\n",
      "--------------------------------------------------\n"
     ]
    },
    {
     "name": "stderr",
     "output_type": "stream",
     "text": [
      "Processing member: 6:  12%|█▎        | 5/40 [00:00<00:05,  6.40it/s]"
     ]
    },
    {
     "name": "stdout",
     "output_type": "stream",
     "text": [
      "--------------------------------------------------\n",
      "member_id:  6 percentile:  0.98 var:  prect\n",
      "--------------------------------------------------\n"
     ]
    },
    {
     "name": "stderr",
     "output_type": "stream",
     "text": [
      "Processing member: 6:  12%|█▎        | 5/40 [00:00<00:05,  6.40it/s]"
     ]
    },
    {
     "name": "stdout",
     "output_type": "stream",
     "text": [
      "--------------------------------------------------\n",
      "member_id:  6 percentile:  0.98 var:  trefhtmx\n",
      "--------------------------------------------------\n"
     ]
    },
    {
     "name": "stderr",
     "output_type": "stream",
     "text": [
      "Processing member: 7:  15%|█▌        | 6/40 [00:00<00:05,  6.56it/s]"
     ]
    },
    {
     "name": "stdout",
     "output_type": "stream",
     "text": [
      "--------------------------------------------------\n",
      "member_id:  7 percentile:  0.98 var:  prect\n",
      "--------------------------------------------------\n"
     ]
    },
    {
     "name": "stderr",
     "output_type": "stream",
     "text": [
      "Processing member: 7:  15%|█▌        | 6/40 [00:01<00:05,  6.56it/s]"
     ]
    },
    {
     "name": "stdout",
     "output_type": "stream",
     "text": [
      "--------------------------------------------------\n",
      "member_id:  7 percentile:  0.98 var:  trefhtmx\n",
      "--------------------------------------------------\n"
     ]
    },
    {
     "name": "stderr",
     "output_type": "stream",
     "text": [
      "Processing member: 8:  18%|█▊        | 7/40 [00:01<00:04,  6.63it/s]"
     ]
    },
    {
     "name": "stdout",
     "output_type": "stream",
     "text": [
      "--------------------------------------------------\n",
      "member_id:  8 percentile:  0.98 var:  prect\n",
      "--------------------------------------------------\n"
     ]
    },
    {
     "name": "stderr",
     "output_type": "stream",
     "text": [
      "Processing member: 8:  18%|█▊        | 7/40 [00:01<00:04,  6.63it/s]"
     ]
    },
    {
     "name": "stdout",
     "output_type": "stream",
     "text": [
      "--------------------------------------------------\n",
      "member_id:  8 percentile:  0.98 var:  trefhtmx\n",
      "--------------------------------------------------\n"
     ]
    },
    {
     "name": "stderr",
     "output_type": "stream",
     "text": [
      "Processing member: 9:  20%|██        | 8/40 [00:01<00:04,  6.82it/s]"
     ]
    },
    {
     "name": "stdout",
     "output_type": "stream",
     "text": [
      "--------------------------------------------------\n",
      "member_id:  9 percentile:  0.98 var:  prect\n",
      "--------------------------------------------------\n"
     ]
    },
    {
     "name": "stderr",
     "output_type": "stream",
     "text": [
      "Processing member: 9:  20%|██        | 8/40 [00:01<00:04,  6.82it/s]"
     ]
    },
    {
     "name": "stdout",
     "output_type": "stream",
     "text": [
      "--------------------------------------------------\n",
      "member_id:  9 percentile:  0.98 var:  trefhtmx\n",
      "--------------------------------------------------\n"
     ]
    },
    {
     "name": "stderr",
     "output_type": "stream",
     "text": [
      "Processing member: 10:  22%|██▎       | 9/40 [00:01<00:04,  6.41it/s]"
     ]
    },
    {
     "name": "stdout",
     "output_type": "stream",
     "text": [
      "--------------------------------------------------\n",
      "member_id:  10 percentile:  0.98 var:  prect\n",
      "--------------------------------------------------\n"
     ]
    },
    {
     "name": "stderr",
     "output_type": "stream",
     "text": [
      "Processing member: 10:  22%|██▎       | 9/40 [00:01<00:04,  6.41it/s]"
     ]
    },
    {
     "name": "stdout",
     "output_type": "stream",
     "text": [
      "--------------------------------------------------\n",
      "member_id:  10 percentile:  0.98 var:  trefhtmx\n",
      "--------------------------------------------------\n"
     ]
    },
    {
     "name": "stderr",
     "output_type": "stream",
     "text": [
      "Processing member: 11:  25%|██▌       | 10/40 [00:01<00:04,  6.38it/s]"
     ]
    },
    {
     "name": "stdout",
     "output_type": "stream",
     "text": [
      "--------------------------------------------------\n",
      "member_id:  11 percentile:  0.98 var:  prect\n",
      "--------------------------------------------------\n"
     ]
    },
    {
     "name": "stderr",
     "output_type": "stream",
     "text": [
      "Processing member: 11:  25%|██▌       | 10/40 [00:01<00:04,  6.38it/s]"
     ]
    },
    {
     "name": "stdout",
     "output_type": "stream",
     "text": [
      "--------------------------------------------------\n",
      "member_id:  11 percentile:  0.98 var:  trefhtmx\n",
      "--------------------------------------------------\n"
     ]
    },
    {
     "name": "stderr",
     "output_type": "stream",
     "text": [
      "Processing member: 12:  28%|██▊       | 11/40 [00:01<00:04,  6.51it/s]"
     ]
    },
    {
     "name": "stdout",
     "output_type": "stream",
     "text": [
      "--------------------------------------------------\n",
      "member_id:  12 percentile:  0.98 var:  prect\n",
      "--------------------------------------------------\n"
     ]
    },
    {
     "name": "stderr",
     "output_type": "stream",
     "text": [
      "Processing member: 12:  28%|██▊       | 11/40 [00:01<00:04,  6.51it/s]"
     ]
    },
    {
     "name": "stdout",
     "output_type": "stream",
     "text": [
      "--------------------------------------------------\n",
      "member_id:  12 percentile:  0.98 var:  trefhtmx\n",
      "--------------------------------------------------\n"
     ]
    },
    {
     "name": "stderr",
     "output_type": "stream",
     "text": [
      "Processing member: 13:  30%|███       | 12/40 [00:01<00:04,  6.53it/s]"
     ]
    },
    {
     "name": "stdout",
     "output_type": "stream",
     "text": [
      "--------------------------------------------------\n",
      "member_id:  13 percentile:  0.98 var:  prect\n",
      "--------------------------------------------------\n"
     ]
    },
    {
     "name": "stderr",
     "output_type": "stream",
     "text": [
      "Processing member: 13:  30%|███       | 12/40 [00:01<00:04,  6.53it/s]"
     ]
    },
    {
     "name": "stdout",
     "output_type": "stream",
     "text": [
      "--------------------------------------------------\n",
      "member_id:  13 percentile:  0.98 var:  trefhtmx\n",
      "--------------------------------------------------\n"
     ]
    },
    {
     "name": "stderr",
     "output_type": "stream",
     "text": [
      "Processing member: 14:  32%|███▎      | 13/40 [00:02<00:04,  6.60it/s]"
     ]
    },
    {
     "name": "stdout",
     "output_type": "stream",
     "text": [
      "--------------------------------------------------\n",
      "member_id:  14 percentile:  0.98 var:  prect\n",
      "--------------------------------------------------\n"
     ]
    },
    {
     "name": "stderr",
     "output_type": "stream",
     "text": [
      "Processing member: 14:  32%|███▎      | 13/40 [00:02<00:04,  6.60it/s]"
     ]
    },
    {
     "name": "stdout",
     "output_type": "stream",
     "text": [
      "--------------------------------------------------\n",
      "member_id:  14 percentile:  0.98 var:  trefhtmx\n",
      "--------------------------------------------------\n"
     ]
    },
    {
     "name": "stderr",
     "output_type": "stream",
     "text": [
      "Processing member: 15:  35%|███▌      | 14/40 [00:02<00:03,  6.55it/s]"
     ]
    },
    {
     "name": "stdout",
     "output_type": "stream",
     "text": [
      "--------------------------------------------------\n",
      "member_id:  15 percentile:  0.98 var:  prect\n",
      "--------------------------------------------------\n"
     ]
    },
    {
     "name": "stderr",
     "output_type": "stream",
     "text": [
      "Processing member: 15:  35%|███▌      | 14/40 [00:02<00:03,  6.55it/s]"
     ]
    },
    {
     "name": "stdout",
     "output_type": "stream",
     "text": [
      "--------------------------------------------------\n",
      "member_id:  15 percentile:  0.98 var:  trefhtmx\n",
      "--------------------------------------------------\n"
     ]
    },
    {
     "name": "stderr",
     "output_type": "stream",
     "text": [
      "Processing member: 16:  38%|███▊      | 15/40 [00:02<00:03,  6.69it/s]"
     ]
    },
    {
     "name": "stdout",
     "output_type": "stream",
     "text": [
      "--------------------------------------------------\n",
      "member_id:  16 percentile:  0.98 var:  prect\n",
      "--------------------------------------------------\n"
     ]
    },
    {
     "name": "stderr",
     "output_type": "stream",
     "text": [
      "Processing member: 16:  38%|███▊      | 15/40 [00:02<00:03,  6.69it/s]"
     ]
    },
    {
     "name": "stdout",
     "output_type": "stream",
     "text": [
      "--------------------------------------------------\n",
      "member_id:  16 percentile:  0.98 var:  trefhtmx\n",
      "--------------------------------------------------\n"
     ]
    },
    {
     "name": "stderr",
     "output_type": "stream",
     "text": [
      "Processing member: 17:  40%|████      | 16/40 [00:02<00:03,  6.70it/s]"
     ]
    },
    {
     "name": "stdout",
     "output_type": "stream",
     "text": [
      "--------------------------------------------------\n",
      "member_id:  17 percentile:  0.98 var:  prect\n",
      "--------------------------------------------------\n"
     ]
    },
    {
     "name": "stderr",
     "output_type": "stream",
     "text": [
      "Processing member: 17:  40%|████      | 16/40 [00:02<00:03,  6.70it/s]"
     ]
    },
    {
     "name": "stdout",
     "output_type": "stream",
     "text": [
      "--------------------------------------------------\n",
      "member_id:  17 percentile:  0.98 var:  trefhtmx\n",
      "--------------------------------------------------\n"
     ]
    },
    {
     "name": "stderr",
     "output_type": "stream",
     "text": [
      "Processing member: 18:  42%|████▎     | 17/40 [00:02<00:03,  6.35it/s]"
     ]
    },
    {
     "name": "stdout",
     "output_type": "stream",
     "text": [
      "--------------------------------------------------\n",
      "member_id:  18 percentile:  0.98 var:  prect\n",
      "--------------------------------------------------\n"
     ]
    },
    {
     "name": "stderr",
     "output_type": "stream",
     "text": [
      "Processing member: 18:  42%|████▎     | 17/40 [00:02<00:03,  6.35it/s]"
     ]
    },
    {
     "name": "stdout",
     "output_type": "stream",
     "text": [
      "--------------------------------------------------\n",
      "member_id:  18 percentile:  0.98 var:  trefhtmx\n",
      "--------------------------------------------------\n"
     ]
    },
    {
     "name": "stderr",
     "output_type": "stream",
     "text": [
      "Processing member: 19:  45%|████▌     | 18/40 [00:02<00:03,  6.41it/s]"
     ]
    },
    {
     "name": "stdout",
     "output_type": "stream",
     "text": [
      "--------------------------------------------------\n",
      "member_id:  19 percentile:  0.98 var:  prect\n",
      "--------------------------------------------------\n"
     ]
    },
    {
     "name": "stderr",
     "output_type": "stream",
     "text": [
      "Processing member: 19:  45%|████▌     | 18/40 [00:02<00:03,  6.41it/s]"
     ]
    },
    {
     "name": "stdout",
     "output_type": "stream",
     "text": [
      "--------------------------------------------------\n",
      "member_id:  19 percentile:  0.98 var:  trefhtmx\n",
      "--------------------------------------------------\n"
     ]
    },
    {
     "name": "stderr",
     "output_type": "stream",
     "text": [
      "Processing member: 20:  48%|████▊     | 19/40 [00:02<00:03,  6.32it/s]"
     ]
    },
    {
     "name": "stdout",
     "output_type": "stream",
     "text": [
      "--------------------------------------------------\n",
      "member_id:  20 percentile:  0.98 var:  prect\n",
      "--------------------------------------------------\n"
     ]
    },
    {
     "name": "stderr",
     "output_type": "stream",
     "text": [
      "Processing member: 20:  48%|████▊     | 19/40 [00:03<00:03,  6.32it/s]"
     ]
    },
    {
     "name": "stdout",
     "output_type": "stream",
     "text": [
      "--------------------------------------------------\n",
      "member_id:  20 percentile:  0.98 var:  trefhtmx\n",
      "--------------------------------------------------\n"
     ]
    },
    {
     "name": "stderr",
     "output_type": "stream",
     "text": [
      "Processing member: 21:  50%|█████     | 20/40 [00:03<00:03,  5.88it/s]"
     ]
    },
    {
     "name": "stdout",
     "output_type": "stream",
     "text": [
      "--------------------------------------------------\n",
      "member_id:  21 percentile:  0.98 var:  prect\n",
      "--------------------------------------------------\n"
     ]
    },
    {
     "name": "stderr",
     "output_type": "stream",
     "text": [
      "Processing member: 21:  50%|█████     | 20/40 [00:03<00:03,  5.88it/s]"
     ]
    },
    {
     "name": "stdout",
     "output_type": "stream",
     "text": [
      "--------------------------------------------------\n",
      "member_id:  21 percentile:  0.98 var:  trefhtmx\n",
      "--------------------------------------------------\n"
     ]
    },
    {
     "name": "stderr",
     "output_type": "stream",
     "text": [
      "Processing member: 22:  52%|█████▎    | 21/40 [00:03<00:03,  6.08it/s]"
     ]
    },
    {
     "name": "stdout",
     "output_type": "stream",
     "text": [
      "--------------------------------------------------\n",
      "member_id:  22 percentile:  0.98 var:  prect\n",
      "--------------------------------------------------\n"
     ]
    },
    {
     "name": "stderr",
     "output_type": "stream",
     "text": [
      "Processing member: 22:  52%|█████▎    | 21/40 [00:03<00:03,  6.08it/s]"
     ]
    },
    {
     "name": "stdout",
     "output_type": "stream",
     "text": [
      "--------------------------------------------------\n",
      "member_id:  22 percentile:  0.98 var:  trefhtmx\n",
      "--------------------------------------------------\n"
     ]
    },
    {
     "name": "stderr",
     "output_type": "stream",
     "text": [
      "Processing member: 23:  55%|█████▌    | 22/40 [00:03<00:02,  6.23it/s]"
     ]
    },
    {
     "name": "stdout",
     "output_type": "stream",
     "text": [
      "--------------------------------------------------\n",
      "member_id:  23 percentile:  0.98 var:  prect\n",
      "--------------------------------------------------\n"
     ]
    },
    {
     "name": "stderr",
     "output_type": "stream",
     "text": [
      "Processing member: 23:  55%|█████▌    | 22/40 [00:03<00:02,  6.23it/s]"
     ]
    },
    {
     "name": "stdout",
     "output_type": "stream",
     "text": [
      "--------------------------------------------------\n",
      "member_id:  23 percentile:  0.98 var:  trefhtmx\n",
      "--------------------------------------------------\n"
     ]
    },
    {
     "name": "stderr",
     "output_type": "stream",
     "text": [
      "Processing member: 24:  57%|█████▊    | 23/40 [00:03<00:02,  6.43it/s]"
     ]
    },
    {
     "name": "stdout",
     "output_type": "stream",
     "text": [
      "--------------------------------------------------\n",
      "member_id:  24 percentile:  0.98 var:  prect\n",
      "--------------------------------------------------\n"
     ]
    },
    {
     "name": "stderr",
     "output_type": "stream",
     "text": [
      "Processing member: 24:  57%|█████▊    | 23/40 [00:03<00:02,  6.43it/s]"
     ]
    },
    {
     "name": "stdout",
     "output_type": "stream",
     "text": [
      "--------------------------------------------------\n",
      "member_id:  24 percentile:  0.98 var:  trefhtmx\n",
      "--------------------------------------------------\n"
     ]
    },
    {
     "name": "stderr",
     "output_type": "stream",
     "text": [
      "Processing member: 25:  60%|██████    | 24/40 [00:03<00:02,  6.50it/s]"
     ]
    },
    {
     "name": "stdout",
     "output_type": "stream",
     "text": [
      "--------------------------------------------------\n",
      "member_id:  25 percentile:  0.98 var:  prect\n",
      "--------------------------------------------------\n"
     ]
    },
    {
     "name": "stderr",
     "output_type": "stream",
     "text": [
      "Processing member: 25:  60%|██████    | 24/40 [00:03<00:02,  6.50it/s]"
     ]
    },
    {
     "name": "stdout",
     "output_type": "stream",
     "text": [
      "--------------------------------------------------\n",
      "member_id:  25 percentile:  0.98 var:  trefhtmx\n",
      "--------------------------------------------------\n"
     ]
    },
    {
     "name": "stderr",
     "output_type": "stream",
     "text": [
      "Processing member: 26:  62%|██████▎   | 25/40 [00:03<00:02,  6.31it/s]"
     ]
    },
    {
     "name": "stdout",
     "output_type": "stream",
     "text": [
      "--------------------------------------------------\n",
      "member_id:  26 percentile:  0.98 var:  prect\n",
      "--------------------------------------------------\n"
     ]
    },
    {
     "name": "stderr",
     "output_type": "stream",
     "text": [
      "Processing member: 26:  62%|██████▎   | 25/40 [00:03<00:02,  6.31it/s]"
     ]
    },
    {
     "name": "stdout",
     "output_type": "stream",
     "text": [
      "--------------------------------------------------\n",
      "member_id:  26 percentile:  0.98 var:  trefhtmx\n",
      "--------------------------------------------------\n"
     ]
    },
    {
     "name": "stderr",
     "output_type": "stream",
     "text": [
      "Processing member: 27:  65%|██████▌   | 26/40 [00:04<00:02,  6.47it/s]"
     ]
    },
    {
     "name": "stdout",
     "output_type": "stream",
     "text": [
      "--------------------------------------------------\n",
      "member_id:  27 percentile:  0.98 var:  prect\n",
      "--------------------------------------------------\n"
     ]
    },
    {
     "name": "stderr",
     "output_type": "stream",
     "text": [
      "Processing member: 27:  65%|██████▌   | 26/40 [00:04<00:02,  6.47it/s]"
     ]
    },
    {
     "name": "stdout",
     "output_type": "stream",
     "text": [
      "--------------------------------------------------\n",
      "member_id:  27 percentile:  0.98 var:  trefhtmx\n",
      "--------------------------------------------------\n"
     ]
    },
    {
     "name": "stderr",
     "output_type": "stream",
     "text": [
      "Processing member: 28:  68%|██████▊   | 27/40 [00:04<00:02,  6.46it/s]"
     ]
    },
    {
     "name": "stdout",
     "output_type": "stream",
     "text": [
      "--------------------------------------------------\n",
      "member_id:  28 percentile:  0.98 var:  prect\n",
      "--------------------------------------------------\n"
     ]
    },
    {
     "name": "stderr",
     "output_type": "stream",
     "text": [
      "Processing member: 28:  68%|██████▊   | 27/40 [00:04<00:02,  6.46it/s]"
     ]
    },
    {
     "name": "stdout",
     "output_type": "stream",
     "text": [
      "--------------------------------------------------\n",
      "member_id:  28 percentile:  0.98 var:  trefhtmx\n",
      "--------------------------------------------------\n"
     ]
    },
    {
     "name": "stderr",
     "output_type": "stream",
     "text": [
      "Processing member: 29:  70%|███████   | 28/40 [00:04<00:01,  6.52it/s]"
     ]
    },
    {
     "name": "stdout",
     "output_type": "stream",
     "text": [
      "--------------------------------------------------\n",
      "member_id:  29 percentile:  0.98 var:  prect\n",
      "--------------------------------------------------\n"
     ]
    },
    {
     "name": "stderr",
     "output_type": "stream",
     "text": [
      "Processing member: 29:  70%|███████   | 28/40 [00:04<00:01,  6.52it/s]"
     ]
    },
    {
     "name": "stdout",
     "output_type": "stream",
     "text": [
      "--------------------------------------------------\n",
      "member_id:  29 percentile:  0.98 var:  trefhtmx\n",
      "--------------------------------------------------\n"
     ]
    },
    {
     "name": "stderr",
     "output_type": "stream",
     "text": [
      "Processing member: 30:  72%|███████▎  | 29/40 [00:04<00:01,  6.62it/s]"
     ]
    },
    {
     "name": "stdout",
     "output_type": "stream",
     "text": [
      "--------------------------------------------------\n",
      "member_id:  30 percentile:  0.98 var:  prect\n",
      "--------------------------------------------------\n"
     ]
    },
    {
     "name": "stderr",
     "output_type": "stream",
     "text": [
      "Processing member: 30:  72%|███████▎  | 29/40 [00:04<00:01,  6.62it/s]"
     ]
    },
    {
     "name": "stdout",
     "output_type": "stream",
     "text": [
      "--------------------------------------------------\n",
      "member_id:  30 percentile:  0.98 var:  trefhtmx\n",
      "--------------------------------------------------\n"
     ]
    },
    {
     "name": "stderr",
     "output_type": "stream",
     "text": [
      "Processing member: 31:  75%|███████▌  | 30/40 [00:04<00:01,  6.67it/s]"
     ]
    },
    {
     "name": "stdout",
     "output_type": "stream",
     "text": [
      "--------------------------------------------------\n",
      "member_id:  31 percentile:  0.98 var:  prect\n",
      "--------------------------------------------------\n"
     ]
    },
    {
     "name": "stderr",
     "output_type": "stream",
     "text": [
      "Processing member: 31:  75%|███████▌  | 30/40 [00:04<00:01,  6.67it/s]"
     ]
    },
    {
     "name": "stdout",
     "output_type": "stream",
     "text": [
      "--------------------------------------------------\n",
      "member_id:  31 percentile:  0.98 var:  trefhtmx\n",
      "--------------------------------------------------\n"
     ]
    },
    {
     "name": "stderr",
     "output_type": "stream",
     "text": [
      "Processing member: 32:  78%|███████▊  | 31/40 [00:04<00:01,  6.27it/s]"
     ]
    },
    {
     "name": "stdout",
     "output_type": "stream",
     "text": [
      "--------------------------------------------------\n",
      "member_id:  32 percentile:  0.98 var:  prect\n",
      "--------------------------------------------------\n"
     ]
    },
    {
     "name": "stderr",
     "output_type": "stream",
     "text": [
      "Processing member: 32:  78%|███████▊  | 31/40 [00:04<00:01,  6.27it/s]"
     ]
    },
    {
     "name": "stdout",
     "output_type": "stream",
     "text": [
      "--------------------------------------------------\n",
      "member_id:  32 percentile:  0.98 var:  trefhtmx\n",
      "--------------------------------------------------\n"
     ]
    },
    {
     "name": "stderr",
     "output_type": "stream",
     "text": [
      "Processing member: 33:  80%|████████  | 32/40 [00:04<00:01,  6.42it/s]"
     ]
    },
    {
     "name": "stdout",
     "output_type": "stream",
     "text": [
      "--------------------------------------------------\n",
      "member_id:  33 percentile:  0.98 var:  prect\n",
      "--------------------------------------------------\n"
     ]
    },
    {
     "name": "stderr",
     "output_type": "stream",
     "text": [
      "Processing member: 33:  80%|████████  | 32/40 [00:05<00:01,  6.42it/s]"
     ]
    },
    {
     "name": "stdout",
     "output_type": "stream",
     "text": [
      "--------------------------------------------------\n",
      "member_id:  33 percentile:  0.98 var:  trefhtmx\n",
      "--------------------------------------------------\n"
     ]
    },
    {
     "name": "stderr",
     "output_type": "stream",
     "text": [
      "Processing member: 34:  82%|████████▎ | 33/40 [00:05<00:01,  6.56it/s]"
     ]
    },
    {
     "name": "stdout",
     "output_type": "stream",
     "text": [
      "--------------------------------------------------\n",
      "member_id:  34 percentile:  0.98 var:  prect\n",
      "--------------------------------------------------\n"
     ]
    },
    {
     "name": "stderr",
     "output_type": "stream",
     "text": [
      "Processing member: 34:  82%|████████▎ | 33/40 [00:05<00:01,  6.56it/s]"
     ]
    },
    {
     "name": "stdout",
     "output_type": "stream",
     "text": [
      "--------------------------------------------------\n",
      "member_id:  34 percentile:  0.98 var:  trefhtmx\n",
      "--------------------------------------------------\n"
     ]
    },
    {
     "name": "stderr",
     "output_type": "stream",
     "text": [
      "Processing member: 35:  85%|████████▌ | 34/40 [00:05<00:00,  6.64it/s]"
     ]
    },
    {
     "name": "stdout",
     "output_type": "stream",
     "text": [
      "--------------------------------------------------\n",
      "member_id:  35 percentile:  0.98 var:  prect\n",
      "--------------------------------------------------\n"
     ]
    },
    {
     "name": "stderr",
     "output_type": "stream",
     "text": [
      "Processing member: 35:  85%|████████▌ | 34/40 [00:05<00:00,  6.64it/s]"
     ]
    },
    {
     "name": "stdout",
     "output_type": "stream",
     "text": [
      "--------------------------------------------------\n",
      "member_id:  35 percentile:  0.98 var:  trefhtmx\n",
      "--------------------------------------------------\n"
     ]
    },
    {
     "name": "stderr",
     "output_type": "stream",
     "text": [
      "Processing member: 101:  88%|████████▊ | 35/40 [00:05<00:00,  6.68it/s]"
     ]
    },
    {
     "name": "stdout",
     "output_type": "stream",
     "text": [
      "--------------------------------------------------\n",
      "member_id:  101 percentile:  0.98 var:  prect\n",
      "--------------------------------------------------\n"
     ]
    },
    {
     "name": "stderr",
     "output_type": "stream",
     "text": [
      "Processing member: 101:  88%|████████▊ | 35/40 [00:05<00:00,  6.68it/s]"
     ]
    },
    {
     "name": "stdout",
     "output_type": "stream",
     "text": [
      "--------------------------------------------------\n",
      "member_id:  101 percentile:  0.98 var:  trefhtmx\n",
      "--------------------------------------------------\n"
     ]
    },
    {
     "name": "stderr",
     "output_type": "stream",
     "text": [
      "Processing member: 102:  90%|█████████ | 36/40 [00:05<00:00,  6.57it/s]"
     ]
    },
    {
     "name": "stdout",
     "output_type": "stream",
     "text": [
      "--------------------------------------------------\n",
      "member_id:  102 percentile:  0.98 var:  prect\n",
      "--------------------------------------------------\n"
     ]
    },
    {
     "name": "stderr",
     "output_type": "stream",
     "text": [
      "Processing member: 102:  90%|█████████ | 36/40 [00:05<00:00,  6.57it/s]"
     ]
    },
    {
     "name": "stdout",
     "output_type": "stream",
     "text": [
      "--------------------------------------------------\n",
      "member_id:  102 percentile:  0.98 var:  trefhtmx\n",
      "--------------------------------------------------\n"
     ]
    },
    {
     "name": "stderr",
     "output_type": "stream",
     "text": [
      "Processing member: 103:  92%|█████████▎| 37/40 [00:05<00:00,  6.38it/s]"
     ]
    },
    {
     "name": "stdout",
     "output_type": "stream",
     "text": [
      "--------------------------------------------------\n",
      "member_id:  103 percentile:  0.98 var:  prect\n",
      "--------------------------------------------------\n"
     ]
    },
    {
     "name": "stderr",
     "output_type": "stream",
     "text": [
      "Processing member: 103:  92%|█████████▎| 37/40 [00:05<00:00,  6.38it/s]"
     ]
    },
    {
     "name": "stdout",
     "output_type": "stream",
     "text": [
      "--------------------------------------------------\n",
      "member_id:  103 percentile:  0.98 var:  trefhtmx\n",
      "--------------------------------------------------\n"
     ]
    },
    {
     "name": "stderr",
     "output_type": "stream",
     "text": [
      "Processing member: 104:  95%|█████████▌| 38/40 [00:05<00:00,  6.42it/s]"
     ]
    },
    {
     "name": "stdout",
     "output_type": "stream",
     "text": [
      "--------------------------------------------------\n",
      "member_id:  104 percentile:  0.98 var:  prect\n",
      "--------------------------------------------------\n"
     ]
    },
    {
     "name": "stderr",
     "output_type": "stream",
     "text": [
      "Processing member: 104:  95%|█████████▌| 38/40 [00:05<00:00,  6.42it/s]"
     ]
    },
    {
     "name": "stdout",
     "output_type": "stream",
     "text": [
      "--------------------------------------------------\n",
      "member_id:  104 percentile:  0.98 var:  trefhtmx\n",
      "--------------------------------------------------\n"
     ]
    },
    {
     "name": "stderr",
     "output_type": "stream",
     "text": [
      "Processing member: 105:  98%|█████████▊| 39/40 [00:06<00:00,  6.50it/s]"
     ]
    },
    {
     "name": "stdout",
     "output_type": "stream",
     "text": [
      "--------------------------------------------------\n",
      "member_id:  105 percentile:  0.98 var:  prect\n",
      "--------------------------------------------------\n"
     ]
    },
    {
     "name": "stderr",
     "output_type": "stream",
     "text": [
      "Processing member: 105:  98%|█████████▊| 39/40 [00:06<00:00,  6.50it/s]"
     ]
    },
    {
     "name": "stdout",
     "output_type": "stream",
     "text": [
      "--------------------------------------------------\n",
      "member_id:  105 percentile:  0.98 var:  trefhtmx\n",
      "--------------------------------------------------\n"
     ]
    },
    {
     "name": "stderr",
     "output_type": "stream",
     "text": [
      "Processing member: 105: 100%|██████████| 40/40 [00:06<00:00,  6.43it/s]\n"
     ]
    },
    {
     "name": "stdout",
     "output_type": "stream",
     "text": [
      "---------------Finish to execute the 2nd sql script!---------------\n",
      "end time:  2023-07-30 07:29:41\n",
      "\n",
      "--------------------------------------------------\n",
      "var_col_name      : ['prect', 'trefhtmx']         drop_nan          : FALSE                         select_positive   : TRUE                          \n",
      "lat_col_name      : lat                           lon_col_name      : lon                           time_col_name     : time                          \n",
      "start_year        : 2006                          end_year          : 2055                          start_month       : 1                             \n",
      "end_month         : 12                            SELECT_ALL_TIME   : TRUE                          set_quantile      : NULL                          \n",
      "quant             : 0.98                          duration_threshold: 3                             member_id         : [[1, 36, 1], [101, 106, 1]]   \n",
      "SQL_path          : ./sql/ass1.sql                output_filename   : intermediate_output.txt       tablename         : cesm_trefhtmx                 \n",
      "output_table      : cesm_ass1_100year_0730        \n",
      "Is that correct?[Y/N] or [Q] to quit!\n",
      "\n",
      "Succeed in quitting the program\n"
     ]
    }
   ],
   "source": [
    "# if you want to manually check the config info,use the following code:\n",
    "odps_exec()"
   ]
  },
  {
   "cell_type": "markdown",
   "metadata": {},
   "source": [
    "## test code "
   ]
  },
  {
   "cell_type": "code",
   "execution_count": 4,
   "metadata": {},
   "outputs": [
    {
     "name": "stdout",
     "output_type": "stream",
     "text": [
      "The odps extension is already loaded. To reload it, use:\n",
      "  %reload_ext odps\n"
     ]
    }
   ],
   "source": [
    "%load_ext odps"
   ]
  },
  {
   "cell_type": "code",
   "execution_count": null,
   "metadata": {},
   "outputs": [],
   "source": [
    "%%sql\n",
    "\n",
    "WITH T0 AS (\n",
    "SELECT \n",
    "\ttrefhtmx climate_index,\n",
    "\tlat lat,\n",
    "\tlon lon,\n",
    "\ttime time_list\n",
    "\t\n",
    "FROM\n",
    "\n",
    "\tcesm_trefhtmx \n",
    "\n",
    "WHERE \n",
    "\t(\n",
    "\t\t\t(\n",
    "\t\t\t1 = 1 OR \n",
    "\t\t\t\t(\n",
    "\t\t\tYEAR(time) >= 2006 AND\n",
    "\t\t\tYEAR(time) <= 2015 AND\n",
    "\t\t\tMONTH(time) >= 1 AND\n",
    "\t\t\tMONTH(time) <= 12\n",
    "\t\t\t\t)\n",
    "\t\t\t)\n",
    "\t\t\t\n",
    " \t\t\t\n",
    "\t\t\t\n",
    "\t\tAND\n",
    "\t\t\t\t( member_id = 105 )\n",
    "\t\tAND \t\n",
    "\t\t\t\t(0 = 0 OR trefhtmx IS NOT NULL)\n",
    "\t\tAND \t\n",
    "\t\t\t\t(0 = 0 OR trefhtmx > 0)\n",
    "\t)\n",
    ")\n",
    ",\n",
    "\n",
    "\n",
    "T1 AS\n",
    "(\n",
    "SELECT \n",
    "\tlon,\n",
    "\tlat,\n",
    "\ttime_list,\n",
    "\t\n",
    "\tclimate_index,\n",
    "\t\n",
    "\t(\n",
    "\t\tCASE \n",
    "\t\t\tWHEN \n",
    "\t\t\t\tNULL IS NULL\n",
    "\t\t\tTHEN\n",
    "\t\t\t\t\n",
    "\t\t\t\tpercentile_approx(T0.climate_index,0.9900000000000001) OVER (PARTITION BY lon, lat)\n",
    "\t\t\tELSE\n",
    "\t\t\t\tNULL \n",
    "\t\tEND\n",
    "\t)AS quant\n",
    "FROM \n",
    "\tT0\n",
    "),\n",
    "\n",
    "\n",
    "T2 AS (\n",
    "SELECT \n",
    "\tlon, \n",
    "\tlat,\n",
    "\ttime_list,\n",
    "\tclimate_index,\n",
    "\tquant,\n",
    "\t(CASE \n",
    "\t\tWHEN quant <= T1.climate_index \n",
    "\t\tTHEN  1 \n",
    "\tELSE 0 END) AS HW\n",
    "FROM \n",
    "\tT1),\n",
    "\n",
    "\n",
    "T3 AS (\n",
    "\n",
    "SELECT \n",
    "\tlon, \n",
    "    lat,\n",
    "    time_list,\n",
    "    climate_index,\n",
    "    quant,\n",
    "    HW,\n",
    "    ROW_NUMBER() OVER ( ORDER BY lat,lon,time_list) AS row_num\n",
    "FROM\n",
    "\tT2\n",
    "WHERE \n",
    "\tHW = 1\n",
    "),\n",
    "\n",
    "\n",
    "T3_SHIFT AS (\n",
    "    SELECT \n",
    "        lon, \n",
    "        lat,\n",
    "        time_list,\n",
    "        climate_index,\n",
    "        quant,\n",
    "        HW,\n",
    "        (\n",
    "            CASE \n",
    "                WHEN DATEDIFF(time_list, LAG(time_list, 1) OVER (ORDER BY row_num),'dd') = 1 \n",
    "                    AND lat = LAG(lat, 1) OVER (ORDER BY row_num) \n",
    "                    AND lon = LAG(lon, 1) OVER (ORDER BY row_num)\n",
    "                THEN 0\n",
    "                ELSE 1\n",
    "            END\n",
    "        ) AS diff,\n",
    "\t\trow_num\n",
    "    FROM T3\n",
    "),\n",
    "\n",
    " T_fina_0 AS(\n",
    " SELECT\n",
    "\tlon,\n",
    " \tlat,\n",
    " \ttime_list,\n",
    " \tclimate_index,\n",
    " \tquant,\n",
    " \tHW,\n",
    "\tdiff,\n",
    "\tCOUNT(group_id) OVER(PARTITION BY group_id  ORDER BY group_id) duration,\n",
    "\tgroup_id,\n",
    "\trow_num\n",
    " FROM \n",
    "\t (\n",
    "\t SELECT \n",
    " \t\tlon,\n",
    " \t\tlat,\n",
    " \t\ttime_list,\n",
    " \t\tclimate_index,\n",
    " \t\tquant,\n",
    " \t\tHW,\n",
    "\t\tdiff,\n",
    " \t\t\n",
    " \t\tSUM(diff) OVER (ORDER BY row_num) AS group_id,\n",
    " \t\trow_num\n",
    "\t FROM\n",
    " \t\tT3_SHIFT\n",
    "\t)T_temp\n",
    "\t\n",
    " ),\n",
    "\n",
    "  T_final AS(\n",
    " SELECT\n",
    "\tlon,\n",
    " \tlat,\n",
    " \ttime_list,\n",
    " \tclimate_index,\n",
    " \tquant,\n",
    " \tHW,\n",
    "\tdiff,\n",
    "\tCOUNT(group_id) OVER(PARTITION BY group_id  ORDER BY group_id) duration,\n",
    "\tgroup_id,\n",
    "\trow_num\n",
    " FROM \n",
    "\tT_fina_0 \n",
    "where \n",
    "\tduration>=3\n",
    "\t\n",
    " ),\n",
    "\n",
    " \n",
    "freq_col AS\n",
    "(\n",
    "SELECT\n",
    "\tlat,\n",
    "\tlon,\n",
    "\tCOUNT(DISTINCT group_id)\tfeq \n",
    "FROM\n",
    "\tT_final FT\n",
    "GROUP BY\n",
    "\tFT.lat ,FT.lon\n",
    "),\n",
    "\n",
    "\n",
    "dura_col AS\n",
    "(\n",
    "SELECT\n",
    "\t DISTINCT lat, lon, total_dur\t\n",
    " \n",
    "FROM\n",
    "(\n",
    "\tSELECT\n",
    "\t\tlat,\n",
    "\t\tlon,\n",
    "\t\tSUM(avg_d) OVER(PARTITION BY lat,lon) total_dur \n",
    "\tFROM\t\n",
    "\t(\n",
    "\t\tSELECT \n",
    "\t\t\tlat,\n",
    "\t\t\tlon,\n",
    "\t\t\tAVG(duration) avg_d\n",
    "\t\tFROM\n",
    "\t\t\tT_final FT\n",
    "\t\tGROUP BY\n",
    "\t\t\tFT.lat,FT.lon,group_id\n",
    "\t)T_1\n",
    ")T_2\t\n",
    "),\n",
    "\n",
    "\n",
    "intens_col AS(\n",
    "SELECT \n",
    "\tlat,\n",
    "\tlon,\n",
    "\tAVG(FT.climate_index) mean_tmp\n",
    "FROM\n",
    "\tT_final FT\n",
    "GROUP BY\n",
    "\tlat,\n",
    "\tlon\n",
    "),\n",
    "\n",
    "Metrics_col AS(\n",
    "SELECT\n",
    "\tT_t.frequence,\n",
    "\tic.mean_tmp mean_t,\n",
    "\tT_t.total_duration,\n",
    "\tT_t.lat,\n",
    "\tT_t.lon\n",
    "FROM\n",
    "(\n",
    "\tSELECT\n",
    "\t\tfc.feq frequence,\n",
    "\t\tdc.total_dur total_duration,\n",
    "\t\tfc.lat lat,\n",
    "\t\tfc.lon lon\n",
    "\tFROM\n",
    "\t\tfreq_col fc,dura_col dc\n",
    "\tWHERE \n",
    "\t\tfc.lat = dc.lat AND\n",
    "\t\tfc.lon = dc.lon\n",
    "\t)T_t,intens_col ic\n",
    "WHERE\n",
    "\tT_t.lat = ic.lat AND\n",
    "\tT_t.lon = ic.lon\n",
    "),\n",
    "\n",
    "\n",
    "result AS(\n",
    "SELECT\n",
    "\tft.lat,\n",
    "\tft.lon,\n",
    "\tft.time_list,\n",
    "\tft.climate_index climate_index,\n",
    "\tft.quant quant,\n",
    "\tmc.frequence,\n",
    "\tmc.mean_t mean_t, \n",
    "\tft.group_id,\n",
    "\tft.duration single_event_dur,\n",
    "\tmc.total_duration total_duration,\t\n",
    "\tft.row_num\n",
    "\n",
    "FROM\n",
    "\tMetrics_col mc,T_final ft\n",
    "WHERE\n",
    "\tft.lat = mc.lat AND ft.lon = mc.lon\n",
    ")\n",
    "\n",
    "\n",
    "\n",
    "INSERT INTO TABLE cesm_ass1_0727 partition(percentile=99, member_id=105, event_kind = 'trefhtmx')\n",
    "SELECT * except(row_num)\n",
    "\t\n",
    "\t\n",
    "FROM result\n",
    "\n",
    "ORDER BY \n",
    "\t\tlat,\n",
    "\t\tlon,\n",
    " \t\ttime_list;\n"
   ]
  },
  {
   "cell_type": "markdown",
   "metadata": {},
   "source": [
    "## 计算消耗时间"
   ]
  },
  {
   "cell_type": "code",
   "execution_count": 18,
   "metadata": {},
   "outputs": [],
   "source": [
    "from odps.models import Instance\n",
    "import matplotlib.pyplot as plt\n",
    "import datetime\n",
    "import time\n",
    "\n",
    "def plot_eltime(start_time,end_time):\n",
    "    now_time = time.time()\n",
    "    print('time: ', time.strftime(\"%Y-%m-%d %H:%M:%S\", time.localtime(now_time)))\n",
    "    project= ''\n",
    "    ak=''\n",
    "    sk=''\n",
    "    endpoint=''\n",
    "    o = ODPS(ak,sk,project,endpoint=endpoint)\n",
    "\n",
    "    i = 0\n",
    "\n",
    "    ttime =[]\n",
    "    cpu_cost =[]\n",
    "    memory_cost=[]\n",
    "    print('num | id | start time | end_time |  task time | cpu_cost | memory_cost')\n",
    "\n",
    "\n",
    "    for instance in o.list_instances(start_time=start_time,end_time=end_time):\n",
    "        if instance.is_successful():\n",
    "                cost = instance.get_task_detail(instance.get_task_names()[0])\n",
    "                print(cost)\n",
    "                print(str(i), instance.id, instance.start_time, \n",
    "                      instance.end_time, instance.end_time - instance.start_time,\n",
    "                      #(instance.end_time - instance.start_time).total_seconds(),\n",
    "                      #cost.cpu_cost,\n",
    "                      ) \n",
    "                ttime.append((instance.end_time - instance.start_time).total_seconds())\n",
    "                cpu_cost.append(instance.TaskCost.cpu_cost)\n",
    "                memory_cost.append(instance.TaskCost.memory_cost)\n",
    "                i += 1\n",
    "                if i == 1:\n",
    "                    timetotal = instance.start_time\n",
    "                    timetotal2 = instance.end_time\n",
    "                else:\n",
    "                    if (instance.end_time-timetotal2).total_seconds()>0:\n",
    "                        timetotal2 = instance.end_time\n",
    "        else:\n",
    "                print('failed')\n",
    "                print(instance.id, instance.start_time, \n",
    "                    instance.end_time, instance.end_time - instance.start_time,\n",
    "                    (instance.end_time - instance.start_time).total_seconds())        \n",
    "\n",
    "    print('finshed taskes:', str(i))\n",
    "    print('takes time: ', timetotal2 - timetotal)\n",
    "    print('takes time (sum of',str(len(ttime)), ' instanes):',datetime.timedelta(seconds=sum(ttime)))\n",
    "    print('takes time (min of',str(len(ttime)), ' instanes):',min(ttime))\n",
    "    print('cpu_cost(sum):', sum(cpu_cost))\n",
    "    print('mem_cost(sum):', sum(memory_cost))\n",
    "    plt.figure(figsize=(8, 6))\n",
    "    #plt.title('Density Plot')\n",
    "    plt.xlabel('run time (s)')\n",
    "    plt.ylabel('counts')\n",
    "    plt.hist(ttime, alpha=0.5, color='steelblue',edgecolor='black')\n",
    "    plt.show()\n"
   ]
  },
  {
   "cell_type": "markdown",
   "metadata": {},
   "source": [
    "## 计算消耗时间--20230730\n",
    "输出，cesm_ass1_100year_0730，分位数0.98，时间段06-100，40members"
   ]
  },
  {
   "cell_type": "code",
   "execution_count": 16,
   "metadata": {},
   "outputs": [
    {
     "name": "stdout",
     "output_type": "stream",
     "text": [
      "time:  2023-07-30 21:22:45\n",
      "num | id | start time | end_time |  task time\n",
      "0 20230729232935303gxe7f354 2023-07-30 07:29:35 2023-07-30 07:54:16 0:24:41 1481.0\n",
      "1 20230729232935390gye7f354 2023-07-30 07:29:35 2023-07-30 07:47:24 0:17:49 1069.0\n"
     ]
    },
    {
     "name": "stdout",
     "output_type": "stream",
     "text": [
      "2 20230729232935487gjaox654 2023-07-30 07:29:35 2023-07-30 07:51:27 0:21:52 1312.0\n",
      "3 20230729232935560gze7f354 2023-07-30 07:29:35 2023-07-30 07:49:17 0:19:42 1182.0\n",
      "4 20230729232935638gkaox654 2023-07-30 07:29:35 2023-07-30 07:46:45 0:17:10 1030.0\n",
      "5 20230729232935735g0f7f354 2023-07-30 07:29:35 2023-07-30 07:47:34 0:17:59 1079.0\n",
      "6 20230729232935814glaox654 2023-07-30 07:29:35 2023-07-30 07:51:25 0:21:50 1310.0\n",
      "7 20230729232935886g1f7f354 2023-07-30 07:29:35 2023-07-30 07:47:39 0:18:04 1084.0\n",
      "8 20230729232935961g2f7f354 2023-07-30 07:29:36 2023-07-30 07:44:38 0:15:02 902.0\n",
      "9 20230729232936105gnaox654 2023-07-30 07:29:36 2023-07-30 07:50:48 0:21:12 1272.0\n",
      "10 20230729232936172goaox654 2023-07-30 07:29:36 2023-07-30 07:49:33 0:19:57 1197.0\n",
      "11 20230729232936252g3f7f354 2023-07-30 07:29:36 2023-07-30 07:49:09 0:19:33 1173.0\n",
      "12 20230729232936321gpaox654 2023-07-30 07:29:36 2023-07-30 07:47:31 0:17:55 1075.0\n",
      "13 2023072923293633gmaox654 2023-07-30 07:29:36 2023-07-30 07:50:04 0:20:28 1228.0\n",
      "14 20230729232936396g4f7f354 2023-07-30 07:29:36 2023-07-30 07:53:47 0:24:11 1451.0\n",
      "15 20230729232936463g5f7f354 2023-07-30 07:29:36 2023-07-30 07:43:56 0:14:20 860.0\n",
      "16 20230729232936538gqaox654 2023-07-30 07:29:36 2023-07-30 07:50:44 0:21:08 1268.0\n",
      "17 20230729232936609g6f7f354 2023-07-30 07:29:36 2023-07-30 07:49:20 0:19:44 1184.0\n",
      "18 20230729232936713graox654 2023-07-30 07:29:36 2023-07-30 07:43:23 0:13:47 827.0\n",
      "19 20230729232936784gsaox654 2023-07-30 07:29:36 2023-07-30 07:45:40 0:16:04 964.0\n",
      "20 20230729232936871gtaox654 2023-07-30 07:29:36 2023-07-30 07:43:35 0:13:59 839.0\n",
      "21 20230729232936941g7f7f354 2023-07-30 07:29:36 2023-07-30 07:45:04 0:15:28 928.0\n",
      "22 20230729232937171gaf7f354 2023-07-30 07:29:37 2023-07-30 07:49:27 0:19:50 1190.0\n",
      "23 2023072923293719g8f7f354 2023-07-30 07:29:37 2023-07-30 07:45:38 0:16:01 961.0\n",
      "24 20230729232937243gbf7f354 2023-07-30 07:29:37 2023-07-30 07:44:07 0:14:30 870.0\n",
      "25 20230729232937318gcf7f354 2023-07-30 07:29:37 2023-07-30 07:54:09 0:24:32 1472.0\n",
      "26 20230729232937397gdf7f354 2023-07-30 07:29:37 2023-07-30 07:45:05 0:15:28 928.0\n",
      "27 20230729232937472gef7f354 2023-07-30 07:29:37 2023-07-30 07:46:43 0:17:06 1026.0\n",
      "28 20230729232937540gff7f354 2023-07-30 07:29:37 2023-07-30 07:53:37 0:24:00 1440.0\n",
      "29 20230729232937616ggf7f354 2023-07-30 07:29:37 2023-07-30 07:48:31 0:18:54 1134.0\n",
      "30 20230729232937688ghf7f354 2023-07-30 07:29:37 2023-07-30 07:47:15 0:17:38 1058.0\n",
      "31 20230729232937764guaox654 2023-07-30 07:29:37 2023-07-30 07:49:47 0:20:10 1210.0\n",
      "32 20230729232937847gvaox654 2023-07-30 07:29:37 2023-07-30 07:47:32 0:17:55 1075.0\n",
      "33 20230729232937943gwaox654 2023-07-30 07:29:37 2023-07-30 07:46:28 0:16:51 1011.0\n",
      "34 2023072923293795g9f7f354 2023-07-30 07:29:37 2023-07-30 07:44:39 0:15:02 902.0\n",
      "35 2023072923293816gif7f354 2023-07-30 07:29:38 2023-07-30 07:47:19 0:17:41 1061.0\n",
      "36 20230729232938175gxaox654 2023-07-30 07:29:38 2023-07-30 07:47:24 0:17:46 1066.0\n",
      "37 20230729232938258gyaox654 2023-07-30 07:29:38 2023-07-30 07:48:43 0:19:05 1145.0\n",
      "38 20230729232938365gzaox654 2023-07-30 07:29:38 2023-07-30 07:44:36 0:14:58 898.0\n",
      "39 20230729232938455g0box654 2023-07-30 07:29:38 2023-07-30 07:46:37 0:16:59 1019.0\n",
      "40 20230729232938526g1box654 2023-07-30 07:29:38 2023-07-30 07:43:22 0:13:44 824.0\n",
      "41 20230729232938605gkf7f354 2023-07-30 07:29:38 2023-07-30 07:44:27 0:14:49 889.0\n",
      "42 20230729232938676glf7f354 2023-07-30 07:29:38 2023-07-30 07:53:26 0:23:48 1428.0\n",
      "43 20230729232938756gmf7f354 2023-07-30 07:29:38 2023-07-30 07:40:43 0:11:05 665.0\n",
      "44 20230729232938826g2box654 2023-07-30 07:29:38 2023-07-30 07:43:28 0:13:50 830.0\n",
      "45 20230729232938901g3box654 2023-07-30 07:29:38 2023-07-30 07:41:54 0:12:16 736.0\n",
      "46 2023072923293893gjf7f354 2023-07-30 07:29:38 2023-07-30 07:41:23 0:11:45 705.0\n",
      "47 20230729232938972g4box654 2023-07-30 07:29:39 2023-07-30 07:41:52 0:12:13 733.0\n",
      "48 20230729232939144g6box654 2023-07-30 07:29:39 2023-07-30 07:47:33 0:17:54 1074.0\n",
      "49 20230729232939219g7box654 2023-07-30 07:29:39 2023-07-30 07:48:39 0:19:00 1140.0\n",
      "50 20230729232939290gnf7f354 2023-07-30 07:29:39 2023-07-30 07:43:39 0:14:00 840.0\n",
      "51 20230729232939365g8box654 2023-07-30 07:29:39 2023-07-30 07:53:26 0:23:47 1427.0\n",
      "52 20230729232939434g9box654 2023-07-30 07:29:39 2023-07-30 07:42:59 0:13:20 800.0\n",
      "53 2023072923293951g5box654 2023-07-30 07:29:39 2023-07-30 07:47:19 0:17:40 1060.0\n",
      "54 20230729232939523gabox654 2023-07-30 07:29:39 2023-07-30 07:50:49 0:21:10 1270.0\n",
      "55 20230729232939590gof7f354 2023-07-30 07:29:39 2023-07-30 07:42:38 0:12:59 779.0\n",
      "56 20230729232939671gbbox654 2023-07-30 07:29:39 2023-07-30 07:48:24 0:18:45 1125.0\n",
      "57 20230729232939740gpf7f354 2023-07-30 07:29:39 2023-07-30 07:43:48 0:14:09 849.0\n",
      "58 20230729232939819gcbox654 2023-07-30 07:29:39 2023-07-30 07:40:55 0:11:16 676.0\n",
      "59 20230729232939890gdbox654 2023-07-30 07:29:39 2023-07-30 07:44:33 0:14:54 894.0\n",
      "60 20230729232939961gqf7f354 2023-07-30 07:29:40 2023-07-30 07:45:56 0:16:16 976.0\n",
      "61 20230729232940146gsf7f354 2023-07-30 07:29:40 2023-07-30 07:46:17 0:16:37 997.0\n",
      "62 20230729232940215gebox654 2023-07-30 07:29:40 2023-07-30 07:47:23 0:17:43 1063.0\n",
      "63 20230729232940292gfbox654 2023-07-30 07:29:40 2023-07-30 07:46:50 0:17:10 1030.0\n",
      "64 2023072923294034grf7f354 2023-07-30 07:29:40 2023-07-30 07:42:30 0:12:50 770.0\n",
      "65 20230729232940360ggbox654 2023-07-30 07:29:40 2023-07-30 07:40:51 0:11:11 671.0\n",
      "66 20230729232940438gtf7f354 2023-07-30 07:29:40 2023-07-30 07:51:23 0:21:43 1303.0\n",
      "67 20230729232940508ghbox654 2023-07-30 07:29:40 2023-07-30 07:47:37 0:17:57 1077.0\n",
      "68 20230729232940583guf7f354 2023-07-30 07:29:40 2023-07-30 07:49:44 0:20:04 1204.0\n",
      "69 20230729232940654gibox654 2023-07-30 07:29:40 2023-07-30 07:45:03 0:15:23 923.0\n",
      "70 20230729232940730gjbox654 2023-07-30 07:29:40 2023-07-30 07:47:53 0:18:13 1093.0\n",
      "71 20230729232940801gkbox654 2023-07-30 07:29:40 2023-07-30 07:51:28 0:21:48 1308.0\n",
      "72 20230729232940888glbox654 2023-07-30 07:29:40 2023-07-30 07:53:04 0:23:24 1404.0\n",
      "73 20230729232940960gvf7f354 2023-07-30 07:29:41 2023-07-30 07:51:37 0:21:56 1316.0\n",
      "74 20230729232941131gxf7f354 2023-07-30 07:29:41 2023-07-30 07:47:59 0:18:18 1098.0\n",
      "75 20230729232941211gyf7f354 2023-07-30 07:29:41 2023-07-30 07:55:04 0:25:23 1523.0\n",
      "76 20230729232941281gmbox654 2023-07-30 07:29:41 2023-07-30 07:55:37 0:25:56 1556.0\n",
      "77 20230729232941360gnbox654 2023-07-30 07:29:41 2023-07-30 07:46:46 0:17:05 1025.0\n",
      "78 20230729232941431gobox654 2023-07-30 07:29:41 2023-07-30 07:47:16 0:17:35 1055.0\n",
      "79 2023072923294157gwf7f354 2023-07-30 07:29:41 2023-07-30 07:53:51 0:24:10 1450.0\n",
      "finshed taskes: 80\n",
      "takes time:  0:26:02\n",
      "takes time (sum of 80  instanes): 23:49:27\n",
      "takes time (min of 80  instanes): 665.0\n"
     ]
    },
    {
     "data": {
      "image/png": "[encoded data removed]",
      "text/plain": [
       "<Figure size 800x600 with 1 Axes>"
      ]
     },
     "metadata": {},
     "output_type": "display_data"
    }
   ],
   "source": [
    "start_time=datetime.datetime(2023,7,30,7,29,35)\n",
    "end_time=datetime.datetime(2023,7,30,7,31,59)\n",
    "plot_eltime(start_time=start_time,end_time=end_time)"
   ]
  }
 ],
 "metadata": {
  "kernelspec": {
   "display_name": "u_climate_yjj",
   "language": "python",
   "name": "python3"
  },
  "language_info": {
   "codemirror_mode": {
    "name": "ipython",
    "version": 3
   },
   "file_extension": ".py",
   "mimetype": "text/x-python",
   "name": "python",
   "nbconvert_exporter": "python",
   "pygments_lexer": "ipython3",
   "version": "3.9.17"
  },
  "orig_nbformat": 4
 },
 "nbformat": 4,
 "nbformat_minor": 2
}
